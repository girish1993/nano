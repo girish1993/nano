{
 "cells": [
  {
   "cell_type": "code",
   "execution_count": 17,
   "metadata": {},
   "outputs": [],
   "source": [
    "%matplotlib inline\n",
    "import numpy as np\n",
    "import matplotlib.pyplot as plt\n",
    "import networkx as nx\n",
    "from scipy.spatial import distance\n",
    "from itertools import combinations\n",
    "np.random.seed(52)"
   ]
  },
  {
   "cell_type": "code",
   "execution_count": 106,
   "metadata": {},
   "outputs": [],
   "source": [
    "a = np.random.randint(1, 5, size=(5,3))\n",
    "b = np.random.randint(6, 10, size=(5,3))\n",
    "dataset = np.vstack((a, b))\n"
   ]
  },
  {
   "cell_type": "code",
   "execution_count": 107,
   "metadata": {},
   "outputs": [],
   "source": [
    "# calculating euclidean distances\n",
    "similarity_distance = distance.pdist(dataset, 'euclidean')\n",
    "med = np.median(similarity_distance)\n",
    "gauss_kernel_simi = np.exp(-np.square(similarity_distance)/(2*np.square(med)))"
   ]
  },
  {
   "cell_type": "code",
   "execution_count": 108,
   "metadata": {},
   "outputs": [
    {
     "data": {
      "text/plain": [
       "array([[0.        , 0.90483742, 0.96078944, 0.91393119, 0.97044553,\n",
       "        0.41478291, 0.37908304, 0.4965853 , 0.60653066, 0.33287108],\n",
       "       [0.90483742, 0.        , 0.83527021, 0.89583414, 0.91393119,\n",
       "        0.26184567, 0.22537266, 0.29523017, 0.41478291, 0.19398004],\n",
       "       [0.96078944, 0.83527021, 0.        , 0.95122942, 0.97044553,\n",
       "        0.50661699, 0.46301307, 0.60653066, 0.71177032, 0.42316208],\n",
       "       [0.91393119, 0.89583414, 0.95122942, 0.        , 0.94176453,\n",
       "        0.36421898, 0.31981902, 0.44485807, 0.55432728, 0.29229258],\n",
       "       [0.97044553, 0.91393119, 0.97044553, 0.94176453, 0.        ,\n",
       "        0.47236655, 0.42316208, 0.52204578, 0.66365025, 0.37908304],\n",
       "       [0.41478291, 0.26184567, 0.50661699, 0.36421898, 0.47236655,\n",
       "        0.        , 0.99004983, 0.90483742, 0.94176453, 0.98019867],\n",
       "       [0.37908304, 0.22537266, 0.46301307, 0.31981902, 0.42316208,\n",
       "        0.99004983, 0.        , 0.91393119, 0.91393119, 0.99004983],\n",
       "       [0.4965853 , 0.29523017, 0.60653066, 0.44485807, 0.52204578,\n",
       "        0.90483742, 0.91393119, 0.        , 0.94176453, 0.90483742],\n",
       "       [0.60653066, 0.41478291, 0.71177032, 0.55432728, 0.66365025,\n",
       "        0.94176453, 0.91393119, 0.94176453, 0.        , 0.88692044],\n",
       "       [0.33287108, 0.19398004, 0.42316208, 0.29229258, 0.37908304,\n",
       "        0.98019867, 0.99004983, 0.90483742, 0.88692044, 0.        ]])"
      ]
     },
     "execution_count": 108,
     "metadata": {},
     "output_type": "execute_result"
    }
   ],
   "source": [
    "#creating adjacency matrices\n",
    "adj_matrix = np.zeros((dataset.shape[0], dataset.shape[0]))\n",
    "indices = list(combinations(range(dataset.shape[0]), 2))\n",
    "assert len(list(indices)) == len(gauss_kernel_simi)\n",
    "\n",
    "for i in range(len(gauss_kernel_simi)):\n",
    "    adj_matrix[indices[i][0], indices[i][1]] = gauss_kernel_simi[i]\n",
    "    adj_matrix[indices[i][1], indices[i][0]] = gauss_kernel_simi[i]\n",
    "    indices[i] = indices[i] + (float(gauss_kernel_simi[i]), )\n",
    "\n",
    "adj_matrix\n"
   ]
  },
  {
   "cell_type": "code",
   "execution_count": 109,
   "metadata": {},
   "outputs": [
    {
     "data": {
      "text/plain": [
       "array([[5.97985657, 0.        , 0.        , 0.        , 0.        ,\n",
       "        0.        , 0.        , 0.        , 0.        , 0.        ],\n",
       "       [0.        , 4.9410844 , 0.        , 0.        , 0.        ,\n",
       "        0.        , 0.        , 0.        , 0.        , 0.        ],\n",
       "       [0.        , 0.        , 6.42882773, 0.        , 0.        ,\n",
       "        0.        , 0.        , 0.        , 0.        , 0.        ],\n",
       "       [0.        , 0.        , 0.        , 5.67827521, 0.        ,\n",
       "        0.        , 0.        , 0.        , 0.        , 0.        ],\n",
       "       [0.        , 0.        , 0.        , 0.        , 6.25689449,\n",
       "        0.        , 0.        , 0.        , 0.        , 0.        ],\n",
       "       [0.        , 0.        , 0.        , 0.        , 0.        ,\n",
       "        5.83668156, 0.        , 0.        , 0.        , 0.        ],\n",
       "       [0.        , 0.        , 0.        , 0.        , 0.        ,\n",
       "        0.        , 5.6184119 , 0.        , 0.        , 0.        ],\n",
       "       [0.        , 0.        , 0.        , 0.        , 0.        ,\n",
       "        0.        , 0.        , 6.03062053, 0.        , 0.        ],\n",
       "       [0.        , 0.        , 0.        , 0.        , 0.        ,\n",
       "        0.        , 0.        , 0.        , 6.63544212, 0.        ],\n",
       "       [0.        , 0.        , 0.        , 0.        , 0.        ,\n",
       "        0.        , 0.        , 0.        , 0.        , 5.38339519]])"
      ]
     },
     "execution_count": 109,
     "metadata": {},
     "output_type": "execute_result"
    }
   ],
   "source": [
    "#Create a degree matrix\n",
    "degree_matrix = np.diag(np.sum(adj_matrix, axis=1))\n",
    "degree_matrix"
   ]
  },
  {
   "cell_type": "code",
   "execution_count": 110,
   "metadata": {},
   "outputs": [],
   "source": [
    "#create a laplacian matrix L = Degree - Adjacency\n",
    "lap_mat = degree_matrix - adj_matrix\n",
    "eig_val, eig_vec = np.linalg.eigh(lap_mat)\n",
    "eig_val, eig_vec = np.argsort(eig_val), eig_vec[np.argsort(eig_val)]\n",
    "fiedler_vector = eig_vec[:, 1]"
   ]
  },
  {
   "cell_type": "code",
   "execution_count": 113,
   "metadata": {},
   "outputs": [],
   "source": [
    "g = nx.DiGraph()\n",
    "g.add_weighted_edges_from(indices)\n",
    "weights = [g[u][v]['weight'] for u,v in g.edges()]\n",
    "# pos = nx.spring_layout(g)\n",
    "# nx.draw_networkx_nodes(g, pos, node_color=\"blue\")\n",
    "# nx.draw_networkx_edges(g, pos, width=weights, edge_color=\"green\")\n",
    "# nx.draw_networkx_labels(g, pos, font_color=\"black\")"
   ]
  },
  {
   "cell_type": "code",
   "execution_count": 114,
   "metadata": {},
   "outputs": [],
   "source": [
    "fiedler_vector_med = np.median(fiedler_vector)\n",
    "clusters = np.where(fiedler_vector > fiedler_vector_med, 1, 0)\n",
    "colors = [\"red\" if cluster == 0 else \"blue\" for cluster in clusters]\n",
    "# nx.draw(g, pos, node_color=colors, with_labels=True)"
   ]
  },
  {
   "cell_type": "code",
   "execution_count": null,
   "metadata": {},
   "outputs": [],
   "source": []
  }
 ],
 "metadata": {
  "kernelspec": {
   "display_name": "my_exp",
   "language": "python",
   "name": "python3"
  },
  "language_info": {
   "codemirror_mode": {
    "name": "ipython",
    "version": 3
   },
   "file_extension": ".py",
   "mimetype": "text/x-python",
   "name": "python",
   "nbconvert_exporter": "python",
   "pygments_lexer": "ipython3",
   "version": "3.12.11"
  }
 },
 "nbformat": 4,
 "nbformat_minor": 2
}
