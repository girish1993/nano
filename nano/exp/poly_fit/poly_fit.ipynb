{
 "cells": [
  {
   "cell_type": "code",
   "execution_count": 1,
   "metadata": {},
   "outputs": [],
   "source": [
    "%matplotlib inline\n",
    "\n",
    "import numpy as np\n",
    "import scipy"
   ]
  },
  {
   "cell_type": "code",
   "execution_count": 6,
   "metadata": {},
   "outputs": [
    {
     "data": {
      "text/plain": [
       "array([[0.86493647, 0.60948246, 0.27333156, 0.92490418],\n",
       "       [0.07221441, 0.56605454, 0.80351532, 0.08408469],\n",
       "       [0.5234643 , 0.24909628, 0.04634613, 0.35757391],\n",
       "       [0.26778524, 0.52857144, 0.40008656, 0.37125925]])"
      ]
     },
     "execution_count": 6,
     "metadata": {},
     "output_type": "execute_result"
    }
   ],
   "source": [
    "A = np.random.rand(4,4)\n",
    "A"
   ]
  },
  {
   "cell_type": "code",
   "execution_count": 11,
   "metadata": {},
   "outputs": [
    {
     "data": {
      "text/plain": [
       "(array([[1., 0., 0., 0.],\n",
       "        [0., 1., 0., 0.],\n",
       "        [0., 0., 0., 1.],\n",
       "        [0., 0., 1., 0.]]),\n",
       " array([[ 1.        ,  0.        ,  0.        ,  0.        ],\n",
       "        [ 0.083491  ,  1.        ,  0.        ,  0.        ],\n",
       "        [ 0.30960105,  0.65973599,  1.        ,  0.        ],\n",
       "        [ 0.6052055 , -0.23247912, -0.31273966,  1.        ]]),\n",
       " array([[ 0.86493647,  0.60948246,  0.27333156,  0.92490418],\n",
       "        [ 0.        ,  0.51516824,  0.7806946 ,  0.00686351],\n",
       "        [ 0.        ,  0.        , -0.1995895 ,  0.08037984],\n",
       "        [ 0.        ,  0.        ,  0.        , -0.1754496 ]]))"
      ]
     },
     "execution_count": 11,
     "metadata": {},
     "output_type": "execute_result"
    }
   ],
   "source": [
    "scipy.linalg.lu(A)"
   ]
  },
  {
   "cell_type": "code",
   "execution_count": null,
   "metadata": {},
   "outputs": [],
   "source": []
  }
 ],
 "metadata": {
  "kernelspec": {
   "display_name": "my_exp",
   "language": "python",
   "name": "python3"
  },
  "language_info": {
   "codemirror_mode": {
    "name": "ipython",
    "version": 3
   },
   "file_extension": ".py",
   "mimetype": "text/x-python",
   "name": "python",
   "nbconvert_exporter": "python",
   "pygments_lexer": "ipython3",
   "version": "3.12.11"
  }
 },
 "nbformat": 4,
 "nbformat_minor": 2
}
