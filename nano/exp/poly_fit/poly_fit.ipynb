{
 "cells": [
  {
   "cell_type": "code",
   "execution_count": 12,
   "metadata": {},
   "outputs": [],
   "source": [
    "%matplotlib inline\n",
    "\n",
    "import numpy as np\n",
    "import scipy\n",
    "from numpy.polynomial import Polynomial\n",
    "np.random.seed(42)"
   ]
  },
  {
   "cell_type": "code",
   "execution_count": 5,
   "metadata": {},
   "outputs": [
    {
     "data": {
      "text/plain": [
       "array([[0.37454012, 0.95071431, 0.73199394, 0.59865848],\n",
       "       [0.15601864, 0.15599452, 0.05808361, 0.86617615],\n",
       "       [0.60111501, 0.70807258, 0.02058449, 0.96990985],\n",
       "       [0.83244264, 0.21233911, 0.18182497, 0.18340451]])"
      ]
     },
     "execution_count": 5,
     "metadata": {},
     "output_type": "execute_result"
    }
   ],
   "source": [
    "A = np.random.rand(4,4)\n",
    "A"
   ]
  },
  {
   "cell_type": "code",
   "execution_count": 7,
   "metadata": {},
   "outputs": [
    {
     "data": {
      "text/plain": [
       "(array([[0., 1., 0., 0.],\n",
       "        [0., 0., 0., 1.],\n",
       "        [0., 0., 1., 0.],\n",
       "        [1., 0., 0., 0.]]),\n",
       " array([[1.        , 0.        , 0.        , 0.        ],\n",
       "        [0.44992904, 1.        , 0.        , 0.        ],\n",
       "        [0.72210983, 0.64868509, 1.        , 0.        ],\n",
       "        [0.18742269, 0.13587524, 0.12082855, 1.        ]]),\n",
       " array([[ 0.83244264,  0.21233911,  0.18182497,  0.18340451],\n",
       "        [ 0.        ,  0.85517677,  0.65018561,  0.51613947],\n",
       "        [ 0.        ,  0.        , -0.53247881,  0.50265968],\n",
       "        [ 0.        ,  0.        ,  0.        ,  0.70093576]]))"
      ]
     },
     "execution_count": 7,
     "metadata": {},
     "output_type": "execute_result"
    }
   ],
   "source": [
    "# LU decomposition in scipy\n",
    "scipy.linalg.lu(A)"
   ]
  },
  {
   "cell_type": "code",
   "execution_count": 19,
   "metadata": {},
   "outputs": [
    {
     "data": {
      "text/latex": [
       "$x \\mapsto \\text{1.0} + \\text{1.0}\\,x + \\text{1.0}\\,x^{2}$"
      ],
      "text/plain": [
       "Polynomial([1., 1., 1.], domain=[-1.,  1.], window=[-1.,  1.], symbol='x')"
      ]
     },
     "execution_count": 19,
     "metadata": {},
     "output_type": "execute_result"
    }
   ],
   "source": [
    "# create a small dataset for X is a single variable and Y is the target\n",
    "X = np.random.randint(5, size=(5,))\n",
    "B  = np.random.randint(5, size=(5,))\n",
    "\n",
    "# Lets say we try to fit a polynomial function with degree 2 xi = [1, xi, xi**2] for each x\n",
    "coeffs = [1, 1, 1]\n",
    "poly_obs = Polynomial(coeffs)\n",
    "poly_obs"
   ]
  },
  {
   "cell_type": "code",
   "execution_count": 20,
   "metadata": {},
   "outputs": [
    {
     "data": {
      "text/plain": [
       "array([[ 1,  3,  9],\n",
       "       [ 1,  2,  4],\n",
       "       [ 1,  4, 16],\n",
       "       [ 1,  1,  1],\n",
       "       [ 1,  3,  9]])"
      ]
     },
     "execution_count": 20,
     "metadata": {},
     "output_type": "execute_result"
    }
   ],
   "source": [
    "@np.vectorize(signature='()->(n)')\n",
    "def create_poly_feats(x):\n",
    "    return np.array([1, x, x**2])\n",
    "\n",
    "A = create_poly_feats(X)\n",
    "A\n",
    "                    \n"
   ]
  },
  {
   "cell_type": "code",
   "execution_count": 23,
   "metadata": {},
   "outputs": [
    {
     "data": {
      "text/plain": [
       "(array([[0., 0., 1.],\n",
       "        [0., 1., 0.],\n",
       "        [1., 0., 0.]]),\n",
       " array([[1.        , 0.        , 0.        ],\n",
       "        [0.33333333, 1.        , 0.        ],\n",
       "        [0.12820513, 0.98461538, 1.        ]]),\n",
       " array([[ 39.        , 127.        , 435.        ],\n",
       "        [  0.        ,  -3.33333333, -18.        ],\n",
       "        [  0.        ,   0.        ,   0.95384615]]))"
      ]
     },
     "execution_count": 23,
     "metadata": {},
     "output_type": "execute_result"
    }
   ],
   "source": [
    "# Solving Ax = B, multiplying A.T both sides of the equation\n",
    "\n",
    "A_T_A = np.dot(A.T, A)\n",
    "A_T_B = np.dot(A.T, B)\n",
    "\n",
    "scipy.linalg.lu(A_T_A)"
   ]
  },
  {
   "cell_type": "code",
   "execution_count": null,
   "metadata": {},
   "outputs": [],
   "source": [
    "#Implement forward and backward subs to get the coefficients of X\n"
   ]
  }
 ],
 "metadata": {
  "kernelspec": {
   "display_name": "Python 3.11.13 ('nano_exp')",
   "language": "python",
   "name": "python3"
  },
  "language_info": {
   "codemirror_mode": {
    "name": "ipython",
    "version": 3
   },
   "file_extension": ".py",
   "mimetype": "text/x-python",
   "name": "python",
   "nbconvert_exporter": "python",
   "pygments_lexer": "ipython3",
   "version": "3.11.13"
  },
  "vscode": {
   "interpreter": {
    "hash": "df7d05bd45e8b6bfcd90182dfc2c96fe182444ccf64d248d4bbf3113488ba16e"
   }
  }
 },
 "nbformat": 4,
 "nbformat_minor": 2
}
