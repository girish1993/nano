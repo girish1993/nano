{
 "cells": [
  {
   "cell_type": "code",
   "execution_count": 2,
   "metadata": {},
   "outputs": [],
   "source": [
    "%matplotlib inline\n",
    "\n",
    "import numpy as np\n",
    "import scipy\n",
    "from numpy.polynomial import Polynomial\n",
    "np.random.seed(42)"
   ]
  },
  {
   "cell_type": "code",
   "execution_count": 3,
   "metadata": {},
   "outputs": [
    {
     "data": {
      "text/plain": [
       "array([[0.37454012, 0.95071431, 0.73199394, 0.59865848],\n",
       "       [0.15601864, 0.15599452, 0.05808361, 0.86617615],\n",
       "       [0.60111501, 0.70807258, 0.02058449, 0.96990985],\n",
       "       [0.83244264, 0.21233911, 0.18182497, 0.18340451]])"
      ]
     },
     "execution_count": 3,
     "metadata": {},
     "output_type": "execute_result"
    }
   ],
   "source": [
    "A = np.random.rand(4,4)\n",
    "A"
   ]
  },
  {
   "cell_type": "code",
   "execution_count": 4,
   "metadata": {},
   "outputs": [
    {
     "data": {
      "text/plain": [
       "(array([[0., 1., 0., 0.],\n",
       "        [0., 0., 0., 1.],\n",
       "        [0., 0., 1., 0.],\n",
       "        [1., 0., 0., 0.]]),\n",
       " array([[1.        , 0.        , 0.        , 0.        ],\n",
       "        [0.44992904, 1.        , 0.        , 0.        ],\n",
       "        [0.72210983, 0.64868509, 1.        , 0.        ],\n",
       "        [0.18742269, 0.13587524, 0.12082855, 1.        ]]),\n",
       " array([[ 0.83244264,  0.21233911,  0.18182497,  0.18340451],\n",
       "        [ 0.        ,  0.85517677,  0.65018561,  0.51613947],\n",
       "        [ 0.        ,  0.        , -0.53247881,  0.50265968],\n",
       "        [ 0.        ,  0.        ,  0.        ,  0.70093576]]))"
      ]
     },
     "execution_count": 4,
     "metadata": {},
     "output_type": "execute_result"
    }
   ],
   "source": [
    "# LU decomposition in scipy\n",
    "scipy.linalg.lu(A)"
   ]
  },
  {
   "cell_type": "code",
   "execution_count": 5,
   "metadata": {},
   "outputs": [
    {
     "data": {
      "text/latex": [
       "$x \\mapsto \\text{1.0} + \\text{1.0}\\,x + \\text{1.0}\\,x^{2}$"
      ],
      "text/plain": [
       "Polynomial([1., 1., 1.], domain=[-1.,  1.], window=[-1.,  1.], symbol='x')"
      ]
     },
     "execution_count": 5,
     "metadata": {},
     "output_type": "execute_result"
    }
   ],
   "source": [
    "# create a small dataset for X is a single variable and Y is the target\n",
    "X = np.random.randint(5, size=(5,))\n",
    "B  = np.random.randint(5, size=(5,))\n",
    "\n",
    "# Lets say we try to fit a polynomial function with degree 2 xi = [1, xi, xi**2] for each x\n",
    "coeffs = [1, 1, 1]\n",
    "poly_obs = Polynomial(coeffs)\n",
    "poly_obs"
   ]
  },
  {
   "cell_type": "code",
   "execution_count": 6,
   "metadata": {},
   "outputs": [
    {
     "data": {
      "text/plain": [
       "array([[ 1,  3,  9],\n",
       "       [ 1,  1,  1],\n",
       "       [ 1,  4, 16],\n",
       "       [ 1,  3,  9],\n",
       "       [ 1,  0,  0]])"
      ]
     },
     "execution_count": 6,
     "metadata": {},
     "output_type": "execute_result"
    }
   ],
   "source": [
    "@np.vectorize(signature='()->(n)')\n",
    "def create_poly_feats(x):\n",
    "    return np.array([1, x, x**2])\n",
    "\n",
    "A = create_poly_feats(X)\n",
    "A\n",
    "                    \n"
   ]
  },
  {
   "cell_type": "code",
   "execution_count": 51,
   "metadata": {},
   "outputs": [],
   "source": [
    "# Solving Ax = B, multiplying A.T both sides of the equation\n",
    "\n",
    "A_T_A = np.dot(A.T, A)\n",
    "A_T_B = np.dot(A.T, B)\n",
    "\n",
    "P, L, U = scipy.linalg.lu(A_T_A)\n",
    "\n",
    "A_T_B = np.dot(P, A_T_B)\n"
   ]
  },
  {
   "cell_type": "code",
   "execution_count": 59,
   "metadata": {},
   "outputs": [
    {
     "data": {
      "text/plain": [
       "array([ 13.        ,  41.14285714, -12.54285714])"
      ]
     },
     "execution_count": 59,
     "metadata": {},
     "output_type": "execute_result"
    }
   ],
   "source": [
    "#Implement forward and backward subs to get the coefficients of X\n",
    "# Ly = A_T_B\n",
    "y = np.zeros_like(A_T_B)\n",
    "y[0] = A_T_B[0] / L[0,0]\n",
    "for i in range(1, y.shape[0]):\n",
    "    y[i] = (A_T_B[i] - (np.dot(L[i, :i], y[:i]))) / L[i, i]\n",
    "\n",
    "y"
   ]
  },
  {
   "cell_type": "code",
   "execution_count": 61,
   "metadata": {},
   "outputs": [
    {
     "data": {
      "text/plain": [
       "array([ 33.35416667, -25.80208333,   4.57291667])"
      ]
     },
     "execution_count": 61,
     "metadata": {},
     "output_type": "execute_result"
    }
   ],
   "source": [
    "# Backward substitution to get the polynomial coefficients\n",
    "# Ux = y\n",
    "X = np.zeros_like(y)\n",
    "X[y.shape[0] - 1] = y[y.shape[0] - 1] / U[y.shape[0] - 1, y.shape[0] - 1]\n",
    "\n",
    "for i in range(y.shape[0]-2, -1 , -1):\n",
    "    X[i] = (y[i] - np.dot(U[i, :], X)) / U[i, i]\n",
    "X\n",
    "\n"
   ]
  }
 ],
 "metadata": {
  "kernelspec": {
   "display_name": "my_exp",
   "language": "python",
   "name": "python3"
  },
  "language_info": {
   "codemirror_mode": {
    "name": "ipython",
    "version": 3
   },
   "file_extension": ".py",
   "mimetype": "text/x-python",
   "name": "python",
   "nbconvert_exporter": "python",
   "pygments_lexer": "ipython3",
   "version": "3.12.11"
  }
 },
 "nbformat": 4,
 "nbformat_minor": 2
}
