{
 "cells": [
  {
   "cell_type": "code",
   "execution_count": 13,
   "metadata": {},
   "outputs": [],
   "source": [
    "%matplotlib inline\n",
    "import numpy as np\n",
    "import matplotlib.pyplot as plt\n",
    "from sklearn.datasets import make_classification\n",
    "import random"
   ]
  },
  {
   "cell_type": "code",
   "execution_count": 7,
   "metadata": {},
   "outputs": [],
   "source": [
    "#create a synthetic dataset\n",
    "X,y = make_classification(n_samples=500, random_state=42, n_features=5)"
   ]
  },
  {
   "cell_type": "code",
   "execution_count": 19,
   "metadata": {},
   "outputs": [],
   "source": [
    "#create weights and biases\n",
    "w = np.random.rand(5)\n",
    "b = random.random()"
   ]
  },
  {
   "cell_type": "code",
   "execution_count": 57,
   "metadata": {},
   "outputs": [],
   "source": [
    "# forward pass\n",
    "n_iter = 1000\n",
    "lr = 0.01\n",
    "\n",
    "for i in range(n_iter):\n",
    "    # forward pass\n",
    "    z = X.dot(w) + b\n",
    "\n",
    "    #apply sigmoid functions\n",
    "    y_hat = 1 / (1 + np.pow(np.e, -z))\n",
    "    \n",
    "    #backward prop\n",
    "    #compute the loss\n",
    "    log_loss = -np.mean((y*np.log(y_hat)) + ((1-y) * np.log(1 - y_hat)))\n",
    "    \n",
    "    #compute the gradients for w and b\n",
    "    w_updated = ((y_hat - y) @ X) / len(y)\n",
    "    b_updated = np.mean(y_hat - y)\n",
    "    \n",
    "    #update weights and biases\n",
    "    w -= lr * w_updated\n",
    "    b -= lr * b_updated"
   ]
  }
 ],
 "metadata": {
  "kernelspec": {
   "display_name": "Python 3.11.13 ('nano_exp')",
   "language": "python",
   "name": "python3"
  },
  "language_info": {
   "codemirror_mode": {
    "name": "ipython",
    "version": 3
   },
   "file_extension": ".py",
   "mimetype": "text/x-python",
   "name": "python",
   "nbconvert_exporter": "python",
   "pygments_lexer": "ipython3",
   "version": "3.11.13"
  },
  "orig_nbformat": 4,
  "vscode": {
   "interpreter": {
    "hash": "df7d05bd45e8b6bfcd90182dfc2c96fe182444ccf64d248d4bbf3113488ba16e"
   }
  }
 },
 "nbformat": 4,
 "nbformat_minor": 2
}
