{
 "cells": [
  {
   "cell_type": "code",
   "execution_count": 14,
   "metadata": {},
   "outputs": [],
   "source": [
    "%matplotlib inline\n",
    "\n",
    "import numpy as np\n",
    "import matplotlib.pyplot as plt\n",
    "import random\n",
    "\n",
    "np.random.seed(42)"
   ]
  },
  {
   "cell_type": "code",
   "execution_count": 10,
   "metadata": {},
   "outputs": [
    {
     "data": {
      "text/plain": [
       "array([3.27327705, 3.38477009, 5.21745238, ..., 3.94490117, 4.01943987,\n",
       "       4.40109145], shape=(5000,))"
      ]
     },
     "execution_count": 10,
     "metadata": {},
     "output_type": "execute_result"
    }
   ],
   "source": [
    "# Generating synthetic dataset\n",
    "# y = m_k*X_k + b_k + noise -> for simplicity generating sythetic dataset for just 1 variable, m = 2, b = 3\n",
    "\n",
    "samples = 5000\n",
    "b = 3\n",
    "m = 2\n",
    "X = np.random.rand(samples)\n",
    "noise = np.random.normal(loc=0, scale=1, size=samples)\n",
    "Y = (m*X) + 3 + noise\n",
    "Y"
   ]
  },
  {
   "cell_type": "code",
   "execution_count": 24,
   "metadata": {},
   "outputs": [],
   "source": [
    "# Batch Gradient descent\n",
    "\n",
    "epochs = 1000\n",
    "lr = 0.01\n",
    "m = random.random()\n",
    "b = random.random()\n",
    "\n",
    "for i in range(epochs):\n",
    "    \n",
    "    #calculate y_hat\n",
    "    y_hat = (m * X) + b\n",
    "    \n",
    "    #calculate the MSE\n",
    "    mse = np.sum(np.pow((y_hat - Y), 2))/(Y.shape[0])\n",
    "    \n",
    "    #calculate partial derivates wrt m and b\n",
    "    partial_der_m = (-2 * np.sum(X * (y_hat - Y))) / (Y.shape[0])\n",
    "    partial_der_b = (-2 * np.sum(Y - y_hat)) / (Y.shape[0])\n",
    "    \n",
    "    # update coefficeints m and b\n",
    "    m = m - (lr * partial_der_m)\n",
    "    b = b - (lr * partial_der_b)"
   ]
  }
 ],
 "metadata": {
  "kernelspec": {
   "display_name": "Python 3.11.13 ('nano_exp')",
   "language": "python",
   "name": "python3"
  },
  "language_info": {
   "codemirror_mode": {
    "name": "ipython",
    "version": 3
   },
   "file_extension": ".py",
   "mimetype": "text/x-python",
   "name": "python",
   "nbconvert_exporter": "python",
   "pygments_lexer": "ipython3",
   "version": "3.11.13"
  },
  "orig_nbformat": 4,
  "vscode": {
   "interpreter": {
    "hash": "df7d05bd45e8b6bfcd90182dfc2c96fe182444ccf64d248d4bbf3113488ba16e"
   }
  }
 },
 "nbformat": 4,
 "nbformat_minor": 2
}
