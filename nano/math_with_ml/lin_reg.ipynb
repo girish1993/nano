{
 "cells": [
  {
   "cell_type": "code",
   "execution_count": 8,
   "metadata": {},
   "outputs": [],
   "source": [
    "%matplotlib inline\n",
    "\n",
    "import numpy as np\n",
    "import matplotlib.pyplot as plt\n",
    "\n",
    "np.random.seed(42)"
   ]
  },
  {
   "cell_type": "code",
   "execution_count": 10,
   "metadata": {},
   "outputs": [
    {
     "data": {
      "text/plain": [
       "array([3.27327705, 3.38477009, 5.21745238, ..., 3.94490117, 4.01943987,\n",
       "       4.40109145], shape=(5000,))"
      ]
     },
     "execution_count": 10,
     "metadata": {},
     "output_type": "execute_result"
    }
   ],
   "source": [
    "# Generating synthetic dataset\n",
    "# y = m_k*X_k + b_k + noise -> for simplicity generating sythetic dataset for just 1 variable, m = 2, b = 3\n",
    "\n",
    "samples = 5000\n",
    "b = 3\n",
    "m = 2\n",
    "X = np.random.rand(samples)\n",
    "noise = np.random.normal(loc=0, scale=1, size=samples)\n",
    "Y = (m*X) + 3 + noise\n",
    "Y"
   ]
  },
  {
   "cell_type": "code",
   "execution_count": null,
   "metadata": {},
   "outputs": [],
   "source": []
  }
 ],
 "metadata": {
  "kernelspec": {
   "display_name": "Python 3.11.13 ('nano_exp')",
   "language": "python",
   "name": "python3"
  },
  "language_info": {
   "codemirror_mode": {
    "name": "ipython",
    "version": 3
   },
   "file_extension": ".py",
   "mimetype": "text/x-python",
   "name": "python",
   "nbconvert_exporter": "python",
   "pygments_lexer": "ipython3",
   "version": "3.11.13"
  },
  "orig_nbformat": 4,
  "vscode": {
   "interpreter": {
    "hash": "df7d05bd45e8b6bfcd90182dfc2c96fe182444ccf64d248d4bbf3113488ba16e"
   }
  }
 },
 "nbformat": 4,
 "nbformat_minor": 2
}
