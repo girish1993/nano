{
 "cells": [
  {
   "cell_type": "code",
   "execution_count": 1,
   "metadata": {},
   "outputs": [],
   "source": [
    "%matplotlib inline\n",
    "\n",
    "import numpy as np\n",
    "import matplotlib.pyplot as plt\n",
    "import random\n",
    "\n",
    "np.random.seed(42)"
   ]
  },
  {
   "cell_type": "code",
   "execution_count": 2,
   "metadata": {},
   "outputs": [
    {
     "data": {
      "text/plain": [
       "array([3.15210595, 2.51112425, 4.05176714, ..., 3.50242512, 6.04669529,\n",
       "       6.03644037], shape=(5000,))"
      ]
     },
     "execution_count": 2,
     "metadata": {},
     "output_type": "execute_result"
    }
   ],
   "source": [
    "# Generating synthetic dataset\n",
    "# y = m_k*X_k + b_k + noise -> for simplicity generating sythetic dataset for just 1 variable, m = 2, b = 3\n",
    "\n",
    "samples = 5000\n",
    "b = 3\n",
    "m = 2\n",
    "X = np.random.rand(samples)\n",
    "noise = np.random.normal(loc=0, scale=1, size=samples)\n",
    "Y = (m*X) + 3 + noise\n",
    "Y"
   ]
  },
  {
   "cell_type": "code",
   "execution_count": null,
   "metadata": {},
   "outputs": [
    {
     "name": "stdout",
     "output_type": "stream",
     "text": [
      "Gradient descent converged at 219\n"
     ]
    }
   ],
   "source": [
    "# Batch Gradient descent\n",
    "\n",
    "epochs = 1000\n",
    "lr = 0.01\n",
    "tol = 0.00001\n",
    "\n",
    "m = random.random() # choosing a random slope(m) between 0 and 1\n",
    "b = random.random() # choosing a random intercept(b) between 0 and 1\n",
    "\n",
    "# lists to keep track of variables during grad descent\n",
    "mse_arr = []\n",
    "m_arr = []\n",
    "b_arr = []\n",
    "\n",
    "for i in range(epochs):\n",
    "    \n",
    "    #calculate y_hat\n",
    "    y_hat = (m * X) + b\n",
    "    \n",
    "    #calculate the MSE\n",
    "    mse = np.sum(np.pow((y_hat - Y), 2))/(Y.shape[0])\n",
    "\n",
    "    \n",
    "    #calculate partial derivates wrt m and b\n",
    "    partial_der_m = (-2 * np.sum(X * (Y - y_hat))) / (Y.shape[0])\n",
    "    partial_der_b = (-2 * np.sum(Y - y_hat)) / (Y.shape[0])\n",
    "    \n",
    "    # update coefficeints m and b\n",
    "    m = m - (lr * partial_der_m)\n",
    "    b = b - (lr * partial_der_b)\n",
    "\n",
    "    m_arr.append(m)\n",
    "    b_arr.append(b)\n",
    "    mse_arr.append(mse)\n",
    "    \n",
    "    # implement early-stopping(if the gradient descent has converged)\n",
    "    if i>0 and abs(mse - mse_arr[i-1]) <= tol:\n",
    "        print(f\"Gradient descent converged at {i}\")\n",
    "        break\n",
    "\n"
   ]
  },
  {
   "cell_type": "code",
   "execution_count": 30,
   "metadata": {},
   "outputs": [
    {
     "data": {
      "image/png": "[encoded data removed]",
      "text/plain": [
       "<Figure size 640x480 with 1 Axes>"
      ]
     },
     "metadata": {},
     "output_type": "display_data"
    }
   ],
   "source": [
    "# plot the MSE v/s epochs\n",
    "plt.plot(mse_arr)\n",
    "plt.xlabel(\"epochs\")\n",
    "plt.ylabel(\"MSE\")\n",
    "plt.title(\"MSE v/s epochs\")\n",
    "plt.show()"
   ]
  },
  {
   "cell_type": "code",
   "execution_count": null,
   "metadata": {},
   "outputs": [],
   "source": []
  }
 ],
 "metadata": {
  "kernelspec": {
   "display_name": "my_exp",
   "language": "python",
   "name": "python3"
  },
  "language_info": {
   "codemirror_mode": {
    "name": "ipython",
    "version": 3
   },
   "file_extension": ".py",
   "mimetype": "text/x-python",
   "name": "python",
   "nbconvert_exporter": "python",
   "pygments_lexer": "ipython3",
   "version": "3.12.11"
  },
  "orig_nbformat": 4
 },
 "nbformat": 4,
 "nbformat_minor": 2
}
